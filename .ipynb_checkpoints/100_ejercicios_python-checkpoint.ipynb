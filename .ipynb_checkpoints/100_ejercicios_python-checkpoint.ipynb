{
 "cells": [
  {
   "cell_type": "code",
   "execution_count": null,
   "id": "debcb1e0",
   "metadata": {},
   "outputs": [],
   "source": []
  },
  {
   "cell_type": "code",
   "execution_count": 8,
   "id": "66e8cf3a",
   "metadata": {},
   "outputs": [
    {
     "name": "stdout",
     "output_type": "stream",
     "text": [
      "1 Francia 36.2\n"
     ]
    }
   ],
   "source": [
    "#Ejercicio 1\n",
    "a,b,c=1,'Francia',36.2\n",
    "print(a,b,c)"
   ]
  },
  {
   "cell_type": "code",
   "execution_count": 9,
   "id": "83ae0294",
   "metadata": {},
   "outputs": [
    {
     "name": "stdout",
     "output_type": "stream",
     "text": [
      "Está bien\n"
     ]
    }
   ],
   "source": [
    "#Ejercicio 2\n",
    "ch='Hola'\n",
    "ch='Está bien'\n",
    "print(ch)"
   ]
  },
  {
   "cell_type": "code",
   "execution_count": 15,
   "id": "76759f77",
   "metadata": {},
   "outputs": [
    {
     "name": "stdout",
     "output_type": "stream",
     "text": [
      "<class 'str'>\n",
      "<class 'str'>\n"
     ]
    }
   ],
   "source": [
    "#Ejercicio 3\n",
    "x,y=3,8.5\n",
    "x=str()\n",
    "y=str()\n",
    "print(type(x))\n",
    "print(type(y))"
   ]
  },
  {
   "cell_type": "code",
   "execution_count": 18,
   "id": "aa177d97",
   "metadata": {},
   "outputs": [
    {
     "name": "stdout",
     "output_type": "stream",
     "text": [
      "Introduce tu peso en Kg: 85\n",
      "El peso introducido es de 85Kg\n"
     ]
    }
   ],
   "source": [
    "#Ejercicio 4\n",
    "peso=int(input('Introduce tu peso en Kg: '))\n",
    "print(f'El peso introducido es de {peso}Kg')"
   ]
  },
  {
   "cell_type": "code",
   "execution_count": 15,
   "id": "78ff6ebe",
   "metadata": {},
   "outputs": [
    {
     "name": "stdout",
     "output_type": "stream",
     "text": [
      "cadena de caracteres\n"
     ]
    }
   ],
   "source": [
    "#Ejercicio 5\n",
    "var='Hola'\n",
    "if var*0==0:\n",
    "    print('Entero')\n",
    "else: \n",
    "    print('cadena de caracteres')"
   ]
  },
  {
   "cell_type": "code",
   "execution_count": 21,
   "id": "9efebf0a",
   "metadata": {},
   "outputs": [
    {
     "name": "stdout",
     "output_type": "stream",
     "text": [
      "Positivo\n"
     ]
    }
   ],
   "source": [
    "#Ejercicio 6\n",
    "d=5\n",
    "if d>0:\n",
    "  print('Positivo')\n",
    "elif  d<0:\n",
    "    print('Negativo')\n",
    "else:\n",
    "    print('d=0')"
   ]
  },
  {
   "cell_type": "code",
   "execution_count": 29,
   "id": "9299bab3",
   "metadata": {},
   "outputs": [
    {
     "name": "stdout",
     "output_type": "stream",
     "text": [
      "Introduce tu edad: 54\n",
      "El usuario es mayor de edad\n"
     ]
    }
   ],
   "source": [
    "#Ejercicio 7\n",
    "edad=int(input('Introduce tu edad: '))\n",
    "if edad >=18:\n",
    "    print('El usuario es mayor de edad')\n",
    "elif edad<18 and edad>=0:\n",
    "    print('El usuario es menor de edad')\n",
    "else:\n",
    "    print('El usuario no puede tener una edad negativa')    "
   ]
  },
  {
   "cell_type": "code",
   "execution_count": 33,
   "id": "5d5037f4",
   "metadata": {},
   "outputs": [
    {
     "name": "stdout",
     "output_type": "stream",
     "text": [
      "1\n",
      "2\n",
      "3\n",
      "4\n",
      "5\n",
      "6\n",
      "7\n",
      "8\n",
      "9\n",
      "10\n",
      "11\n",
      "12\n",
      "13\n",
      "14\n",
      "15\n",
      "16\n",
      "17\n",
      "18\n",
      "19\n",
      "20\n",
      "1\n",
      "2\n",
      "3\n",
      "4\n",
      "5\n",
      "6\n",
      "7\n",
      "8\n",
      "9\n",
      "10\n",
      "11\n",
      "12\n",
      "13\n",
      "14\n",
      "15\n",
      "16\n",
      "17\n",
      "18\n",
      "19\n",
      "20\n"
     ]
    }
   ],
   "source": [
    "#Ejercicio 8\n",
    "for numero in range(1,21):\n",
    "    print(numero)\n",
    "numero_b=1\n",
    "while numero_b<21:\n",
    "    print(numero_b)\n",
    "    numero_b+=1\n"
   ]
  },
  {
   "cell_type": "code",
   "execution_count": 35,
   "id": "99ad1e3a",
   "metadata": {},
   "outputs": [
    {
     "name": "stdout",
     "output_type": "stream",
     "text": [
      "11\n",
      "13\n",
      "15\n",
      "17\n",
      "19\n",
      "11\n",
      "13\n",
      "15\n",
      "17\n",
      "19\n"
     ]
    }
   ],
   "source": [
    "#Ejercicio 9\n",
    "for i in range (10,21):\n",
    "    if i%2!=0:\n",
    "        print(i)\n",
    "n=10\n",
    "while n<21:\n",
    "    if n%2!=0:\n",
    "        print(n)\n",
    "    n+=1"
   ]
  },
  {
   "cell_type": "code",
   "execution_count": 36,
   "id": "ba6f6a13",
   "metadata": {},
   "outputs": [
    {
     "name": "stdout",
     "output_type": "stream",
     "text": [
      "[1, 2, 3, 4, 5, 6, 7, 8, 9, 10]\n"
     ]
    }
   ],
   "source": [
    "#Ejercicio 10\n",
    "print([i for i in range(1,11)])"
   ]
  },
  {
   "cell_type": "code",
   "execution_count": 37,
   "id": "196c4702",
   "metadata": {},
   "outputs": [
    {
     "name": "stdout",
     "output_type": "stream",
     "text": [
      "[2, 4, 6, 8, 10]\n"
     ]
    }
   ],
   "source": [
    "#Ejercicio 11\n",
    "print([i for i in range(1,11) if i%2==0])"
   ]
  },
  {
   "cell_type": "code",
   "execution_count": 2,
   "id": "2b75a434",
   "metadata": {},
   "outputs": [
    {
     "name": "stdout",
     "output_type": "stream",
     "text": [
      "[1, 2, 3, 4, 6, 8, 9.2, 12]\n"
     ]
    }
   ],
   "source": [
    "#Ejercicio 12\n",
    "L=[6,8,3,4,1,12,2,9.2]\n",
    "L.sort()\n",
    "print(L)"
   ]
  },
  {
   "cell_type": "code",
   "execution_count": 6,
   "id": "52116368",
   "metadata": {},
   "outputs": [
    {
     "name": "stdout",
     "output_type": "stream",
     "text": [
      "2\n"
     ]
    }
   ],
   "source": [
    "#Ejercicio 13\n",
    "L=[3,2,2,1,9,1,2,3,7]\n",
    "cont=0\n",
    "for i in L:\n",
    "    if i==1:\n",
    "        cont+=1\n",
    "print(cont)\n"
   ]
  },
  {
   "cell_type": "code",
   "execution_count": 7,
   "id": "393b4dbc",
   "metadata": {},
   "outputs": [
    {
     "name": "stdout",
     "output_type": "stream",
     "text": [
      "[10, 25, 30, 45, 90, 'ab', 'cd', 'ef']\n"
     ]
    }
   ],
   "source": [
    "#Ejercicio 14\n",
    "L=[]\n",
    "lista=[10,25,30,45,90,'ab','cd','ef']\n",
    "for i in lista:\n",
    "    L.append(i)\n",
    "print(L)"
   ]
  },
  {
   "cell_type": "code",
   "execution_count": 8,
   "id": "984d271d",
   "metadata": {},
   "outputs": [
    {
     "name": "stdout",
     "output_type": "stream",
     "text": [
      "[1, 4, 7, 10]\n"
     ]
    }
   ],
   "source": [
    "#Ejercicio 15\n",
    "L=[i for i in range(1,11)]\n",
    "L1=[i for i in L[::3]]\n",
    "print(L1)"
   ]
  },
  {
   "cell_type": "code",
   "execution_count": 23,
   "id": "f1f9bb04",
   "metadata": {},
   "outputs": [
    {
     "name": "stdout",
     "output_type": "stream",
     "text": [
      "aacfir\n"
     ]
    }
   ],
   "source": [
    "#Ejercicio 16\n",
    "c='fracia'\n",
    "l=[]\n",
    "for i in c:\n",
    "    l.append(i)\n",
    "    l.sort()\n",
    "print(''.join(l))"
   ]
  },
  {
   "cell_type": "code",
   "execution_count": 25,
   "id": "3fd2de73",
   "metadata": {},
   "outputs": [
    {
     "name": "stdout",
     "output_type": "stream",
     "text": [
      "[9, 8, 7, 14, 3, 2, 'a', 'p', 'hola', 'b', 1, 6]\n"
     ]
    }
   ],
   "source": [
    "#Ejercicio 17\n",
    "L1=[9,8,7,14,3,2,'a','p','hola','b']\n",
    "L2=['b',1,9,2,6,3,9,'p']\n",
    "L3=L1+[i for i in L2 if i not in L1]\n",
    "print(L3)"
   ]
  },
  {
   "cell_type": "code",
   "execution_count": 48,
   "id": "ee0b32f1",
   "metadata": {},
   "outputs": [
    {
     "name": "stdout",
     "output_type": "stream",
     "text": [
      "[('Melocoton', 2), ('Banana', 8), ('Kiwi', 9), ('Fresa', 12), ('Manzana', 15)]\n"
     ]
    }
   ],
   "source": [
    "#Ejercicio 18\n",
    "L=[('Manzana',15),('Banana',8),('Fresa',12),('Kiwi',9),('Melocoton',2)]\n",
    "L_modificada=sorted(L,key=lambda x: x[1])\n",
    "print(L_modificada)"
   ]
  },
  {
   "cell_type": "code",
   "execution_count": 49,
   "id": "ee238f5d",
   "metadata": {},
   "outputs": [
    {
     "name": "stdout",
     "output_type": "stream",
     "text": [
      "sodot a aloH\n"
     ]
    }
   ],
   "source": [
    "#Ejercicio 19\n",
    "ch='Hola a todos'\n",
    "print(ch[::-1])"
   ]
  },
  {
   "cell_type": "code",
   "execution_count": 56,
   "id": "e2ded8b6",
   "metadata": {},
   "outputs": [
    {
     "name": "stdout",
     "output_type": "stream",
     "text": [
      "3\n",
      "7\n"
     ]
    }
   ],
   "source": [
    "#Ejercicio 20\n",
    "diccionario={'Manzana':3,'Banana':7,'Kiwi':1}\n",
    "print(diccionario['Manzana'])\n",
    "print(diccionario['Banana'])"
   ]
  },
  {
   "cell_type": "code",
   "execution_count": 57,
   "id": "15c142bb",
   "metadata": {},
   "outputs": [
    {
     "name": "stdout",
     "output_type": "stream",
     "text": [
      "46\n"
     ]
    }
   ],
   "source": [
    "#Ejercicio 21\n",
    "d={'Manzana':15,'Banana':8,'Fresa':12,'Kiwi':9,'Melocoton':2}\n",
    "print(sum(d.values()))"
   ]
  },
  {
   "cell_type": "code",
   "execution_count": 3,
   "id": "ffb1855d",
   "metadata": {},
   "outputs": [
    {
     "name": "stdout",
     "output_type": "stream",
     "text": [
      "187.63\n"
     ]
    }
   ],
   "source": [
    "#Ejercicio 22\n",
    "def dos_decimales(n):\n",
    "    return round(n,2)\n",
    "print(dos_decimales(187.632587))\n"
   ]
  },
  {
   "cell_type": "code",
   "execution_count": 4,
   "id": "0c317cf8",
   "metadata": {},
   "outputs": [
    {
     "name": "stdout",
     "output_type": "stream",
     "text": [
      "Introduce tu nombre: Julien\n",
      "Introduce tu edad: 32\n",
      "Introduce lenguaje de programación: Python\n"
     ]
    },
    {
     "data": {
      "text/plain": [
       "'Me llamo Julien y tengo 32 años. Estoy aprendiendo el lenguje de Python'"
      ]
     },
     "execution_count": 4,
     "metadata": {},
     "output_type": "execute_result"
    }
   ],
   "source": [
    "#Ejercicio 23\n",
    "def frase():\n",
    "    miNombre=input('Introduce tu nombre: ')\n",
    "    edad=int(input('Introduce tu edad: '))\n",
    "    Lenguaje=input('Introduce lenguaje de programación: ')\n",
    "    return f'Me llamo {miNombre} y tengo {edad} años. Estoy aprendiendo el lenguje de {Lenguaje}'\n",
    "frase()\n"
   ]
  },
  {
   "cell_type": "code",
   "execution_count": 6,
   "id": "9d4fb0f0",
   "metadata": {},
   "outputs": [
    {
     "name": "stdout",
     "output_type": "stream",
     "text": [
      "8x0=0\n",
      "8x1=8\n",
      "8x2=16\n",
      "8x3=24\n",
      "8x4=32\n",
      "8x5=40\n",
      "8x6=48\n",
      "8x7=56\n",
      "8x8=64\n",
      "8x9=72\n",
      "8x10=80\n"
     ]
    }
   ],
   "source": [
    "#Ejercicio 24\n",
    "def tabla(n):\n",
    "    for i in range(11):\n",
    "        print(f'{n}x{i}={i*n}')\n",
    "tabla(8)"
   ]
  },
  {
   "cell_type": "code",
   "execution_count": 12,
   "id": "1554d443",
   "metadata": {},
   "outputs": [
    {
     "data": {
      "text/plain": [
       "'C:\\\\Users\\\\sgcov\\\\Desktop\\\\tokio\\\\libro\\\\100-Ejercicios-Python-'"
      ]
     },
     "execution_count": 12,
     "metadata": {},
     "output_type": "execute_result"
    }
   ],
   "source": [
    "# Ejercicio 25\n",
    "\n",
    "import os\n",
    "os.getcwd()"
   ]
  },
  {
   "cell_type": "code",
   "execution_count": 17,
   "id": "a75225af",
   "metadata": {},
   "outputs": [
    {
     "name": "stdout",
     "output_type": "stream",
     "text": [
      "[2, 3, 4, 5]\n"
     ]
    }
   ],
   "source": [
    "# Ejercicio 26\n",
    "def eliminar_elemento(lista,n):\n",
    "    lista.remove(n)\n",
    "    return lista\n",
    "print(eliminar_elemento([1,2,3,4,5],1))"
   ]
  },
  {
   "cell_type": "code",
   "execution_count": 25,
   "id": "7a570574",
   "metadata": {},
   "outputs": [
    {
     "name": "stdout",
     "output_type": "stream",
     "text": [
      "Root: C:\\Users\\sgcov\\Desktop\\tokio\\libro\\100-Ejercicios-Python-\n",
      "extension: \n"
     ]
    }
   ],
   "source": [
    "# Ejercicio 27\n",
    "root, extension = os.path.splitext(os.getcwd())\n",
    "\n",
    "print(\"Root:\", root)\n",
    "print(\"extension:\", extension)"
   ]
  },
  {
   "cell_type": "code",
   "execution_count": 31,
   "id": "9daa9389",
   "metadata": {},
   "outputs": [
    {
     "name": "stdout",
     "output_type": "stream",
     "text": [
      "8x0=0\n",
      "8x1=8\n",
      "8x2=16\n",
      "8x3=24\n",
      "8x4=32\n",
      "8x5=40\n",
      "8x6=48\n",
      "8x7=56\n",
      "8x8=64\n",
      "8x9=72\n",
      "8x10=80\n",
      "0.0010004043579101562\n"
     ]
    }
   ],
   "source": [
    "# Ejercicio 28\n",
    "import time\n",
    "\n",
    "start = time.time()\n",
    "\n",
    "tabla(8)\n",
    "\n",
    "end = time.time()\n",
    "\n",
    "print(end - start)"
   ]
  },
  {
   "cell_type": "code",
   "execution_count": 33,
   "id": "82f1cfd1",
   "metadata": {},
   "outputs": [
    {
     "name": "stdout",
     "output_type": "stream",
     "text": [
      "['ch', 7, 3, 8, 's', 'd', 6, 2]\n"
     ]
    }
   ],
   "source": [
    "# Ejercicio 29\n",
    "import random\n",
    "L=[3,6,8,7,2,'s','ch','d']\n",
    "random.shuffle(L)\n",
    "print(L)"
   ]
  },
  {
   "cell_type": "code",
   "execution_count": 70,
   "id": "43b2bf23",
   "metadata": {},
   "outputs": [
    {
     "name": "stdout",
     "output_type": "stream",
     "text": [
      "20\n"
     ]
    }
   ],
   "source": [
    "#Ejercicio 30\n",
    "print(random.randint(20,30))"
   ]
  },
  {
   "cell_type": "code",
   "execution_count": 87,
   "id": "41095123",
   "metadata": {},
   "outputs": [
    {
     "name": "stdout",
     "output_type": "stream",
     "text": [
      "5 6 7 8 9 10 11 12 13 14 15 16 17 18 19 20 \n",
      "5 6 7 8 9 10 11 12 13 14 15 16 17 18 19 20 \n",
      "5 6 7 8 9 10 11 12 13 14 15 16 17 18 19 20 \n",
      "5 6 7 8 9 10 11 12 13 14 15 16 17 18 19 20 \n",
      "5 6 7 8 9 10 11 12 13 14 15 16 17 18 19 20 \n",
      "5 6 7 8 9 10 11 12 13 14 15 16 17 18 19 20 \n",
      "5 6 7 8 9 10 11 12 13 14 15 16 17 18 19 20 \n",
      "5 6 7 8 9 10 11 12 13 14 15 16 17 18 19 20 \n"
     ]
    }
   ],
   "source": [
    "# Ejercicio 31\n",
    "for i in range(8):\n",
    "    for j in range(5,21):\n",
    "        print(j,end=' ')\n",
    "    print()   "
   ]
  },
  {
   "cell_type": "code",
   "execution_count": 88,
   "id": "59311036",
   "metadata": {},
   "outputs": [
    {
     "name": "stdout",
     "output_type": "stream",
     "text": [
      "[1.0, 2.0, 3.0, 4.0, 5.0, 6.0, 7.0, 8.0]\n"
     ]
    }
   ],
   "source": [
    "# Ejercicio 32\n",
    "L=[3,6,9,12,15,18,21,24]\n",
    "L1=[n/3 for n in L]\n",
    "print(L1)"
   ]
  },
  {
   "cell_type": "code",
   "execution_count": 89,
   "id": "ded1b742",
   "metadata": {},
   "outputs": [
    {
     "name": "stdout",
     "output_type": "stream",
     "text": [
      "[5, 2, 8]\n"
     ]
    }
   ],
   "source": [
    "# Ejercicio 33\n",
    "L=[-6,5,-3,-1,2,8,-3.6]\n",
    "L1=[x for x in L if x>0]\n",
    "print(L1)"
   ]
  },
  {
   "cell_type": "code",
   "execution_count": 98,
   "id": "6197f75f",
   "metadata": {},
   "outputs": [
    {
     "name": "stdout",
     "output_type": "stream",
     "text": [
      "9\n"
     ]
    }
   ],
   "source": [
    "# Ejercicio 34\n",
    "\n",
    "def f(a,b,x):\n",
    "    return a*x**3+2*a*x**2+b\n",
    "print(f(3,0,1))\n",
    "    "
   ]
  },
  {
   "cell_type": "code",
   "execution_count": 100,
   "id": "68e5c2cf",
   "metadata": {},
   "outputs": [
    {
     "name": "stdout",
     "output_type": "stream",
     "text": [
      "False\n"
     ]
    }
   ],
   "source": [
    "# Ejercicio 35\n",
    "def VerifPresencia(a,L):\n",
    "    if a in L:\n",
    "        return True\n",
    "    else:\n",
    "        return False\n",
    "print(VerifPresencia(7,[1,2,3,4,5,6]))\n"
   ]
  },
  {
   "cell_type": "code",
   "execution_count": 116,
   "id": "abeb678e",
   "metadata": {},
   "outputs": [
    {
     "name": "stdout",
     "output_type": "stream",
     "text": [
      "14\n",
      "12\n"
     ]
    }
   ],
   "source": [
    "# Ejercicio 36\n",
    "def suma_digitos(n):\n",
    "    suma=0\n",
    "    n=str(n)\n",
    "    for i in n:\n",
    "        suma+=int(i)\n",
    "    return suma\n",
    " \n",
    "print(suma_digitos(149))\n",
    "print(suma_digitos(3018))"
   ]
  },
  {
   "cell_type": "code",
   "execution_count": 117,
   "id": "66427b43",
   "metadata": {},
   "outputs": [
    {
     "name": "stdout",
     "output_type": "stream",
     "text": [
      "24\n"
     ]
    }
   ],
   "source": [
    "# Ejercicio 37\n",
    "def CalcularSuma(L):\n",
    "    return sum(L)\n",
    "print(CalcularSuma([3,2,6,9,-1,5]))"
   ]
  },
  {
   "cell_type": "code",
   "execution_count": 132,
   "id": "c7696884",
   "metadata": {},
   "outputs": [
    {
     "name": "stdout",
     "output_type": "stream",
     "text": [
      "[2, 3, 4, 5, 7]\n"
     ]
    }
   ],
   "source": [
    "# Ejercicio 38\n",
    "def eliminarDuplicados(L):\n",
    "    print(list(set(L)))\n",
    "eliminarDuplicados([2,3,4,2,5,3,5,7,2])"
   ]
  },
  {
   "cell_type": "code",
   "execution_count": 133,
   "id": "e4f07265",
   "metadata": {},
   "outputs": [
    {
     "name": "stdout",
     "output_type": "stream",
     "text": [
      "{'Peso': 65.3}\n"
     ]
    }
   ],
   "source": [
    "# Ejercicio 39\n",
    "def anadirElementoDicc(clave,valor,b):\n",
    "    b[clave]=valor \n",
    "    return b\n",
    "print(anadirElementoDicc('Peso',65.3,{}))"
   ]
  },
  {
   "cell_type": "code",
   "execution_count": 136,
   "id": "2a3d20f1",
   "metadata": {},
   "outputs": [
    {
     "data": {
      "text/plain": [
       "8"
      ]
     },
     "execution_count": 136,
     "metadata": {},
     "output_type": "execute_result"
    }
   ],
   "source": [
    "# Ejercicio 40\n",
    "def maximo(L):\n",
    "    L.sort()\n",
    "    return L.pop()\n",
    "maximo([-9,2,4,1,8])\n",
    "    "
   ]
  },
  {
   "cell_type": "code",
   "execution_count": 138,
   "id": "1417c462",
   "metadata": {},
   "outputs": [
    {
     "data": {
      "text/plain": [
       "46"
      ]
     },
     "execution_count": 138,
     "metadata": {},
     "output_type": "execute_result"
    }
   ],
   "source": [
    "# Ejercicio 41\n",
    "def sumaSublista(L,i,j):\n",
    "    suma=0\n",
    "    while i<=j:\n",
    "        suma+=L[i]\n",
    "        i+=1\n",
    "    return suma\n",
    "sumaSublista([4,10,12,16,18],2,4)"
   ]
  },
  {
   "cell_type": "code",
   "execution_count": 140,
   "id": "5f18c419",
   "metadata": {},
   "outputs": [
    {
     "name": "stdout",
     "output_type": "stream",
     "text": [
      "*\n",
      "**\n",
      "****\n",
      "******\n",
      "********\n",
      "**********\n"
     ]
    }
   ],
   "source": [
    "# Ejercicio 42\n",
    "lista=[1]\n",
    "for i in range(2,11):\n",
    "    if i%2==0:\n",
    "        lista.append(i)\n",
    "for i in lista:\n",
    "    print('*'*i)\n",
    "    "
   ]
  },
  {
   "cell_type": "code",
   "execution_count": 141,
   "id": "c57aa4cf",
   "metadata": {},
   "outputs": [
    {
     "name": "stdout",
     "output_type": "stream",
     "text": [
      "-9\n"
     ]
    }
   ],
   "source": [
    "# Ejercicio 43\n",
    "def minimo(L):\n",
    "    L.sort()\n",
    "    return L[0]\n",
    "print(minimo([-9,2,4,1,8]))"
   ]
  },
  {
   "cell_type": "code",
   "execution_count": 147,
   "id": "dc2d5278",
   "metadata": {},
   "outputs": [
    {
     "name": "stdout",
     "output_type": "stream",
     "text": [
      "0\n"
     ]
    }
   ],
   "source": [
    "# Ejercicio 44\n",
    "def longitud(L):\n",
    "    return len(L)\n",
    "print(longitud([]))"
   ]
  },
  {
   "cell_type": "code",
   "execution_count": 151,
   "id": "6bcda33a",
   "metadata": {},
   "outputs": [
    {
     "name": "stdout",
     "output_type": "stream",
     "text": [
      "4.0\n"
     ]
    }
   ],
   "source": [
    "# Ejercicio 45\n",
    "\n",
    "def mediaLista(L):\n",
    "    return sum(L)/len(L)\n",
    "print(mediaLista([1,2,3,4,5,6,7]))\n"
   ]
  },
  {
   "cell_type": "code",
   "execution_count": 153,
   "id": "ae751bc2",
   "metadata": {
    "scrolled": true
   },
   "outputs": [
    {
     "name": "stdout",
     "output_type": "stream",
     "text": [
      "[1, 3]\n"
     ]
    }
   ],
   "source": [
    "# Ejercicio 46\n",
    "def divisor(n):\n",
    "    sol=[]\n",
    "    for i in range(1,n+1):\n",
    "        if n%i==0:\n",
    "            sol.append(i)\n",
    "    sol.sort()\n",
    "    return sol\n",
    "print(divisor(3))          "
   ]
  },
  {
   "cell_type": "code",
   "execution_count": 174,
   "id": "1760d8e8",
   "metadata": {},
   "outputs": [
    {
     "name": "stdout",
     "output_type": "stream",
     "text": [
      "False\n"
     ]
    }
   ],
   "source": [
    "# Ejercicio 47\n",
    "def ControlMay(frase):\n",
    "    for i in frase:\n",
    "        if i.isalpha() and i.isupper():\n",
    "            return True\n",
    "    return False\n",
    "\n",
    "print(ControlMay('la casa es verde'))\n"
   ]
  },
  {
   "cell_type": "code",
   "execution_count": 176,
   "id": "ecd531d6",
   "metadata": {},
   "outputs": [
    {
     "name": "stdout",
     "output_type": "stream",
     "text": [
      "[1, 2, 3, 'a', 8, 'mano', 456, 984, 'lampara']\n"
     ]
    }
   ],
   "source": [
    "# Ejercicio 48\n",
    "def concatListas(L1,L2,L3):\n",
    "    L_unida=L1+L2+L3\n",
    "    return L_unida\n",
    "print(concatListas([1,2,3],['a',8,'mano'],[456,984,'lampara']))"
   ]
  },
  {
   "cell_type": "code",
   "execution_count": 177,
   "id": "5fb2304c",
   "metadata": {},
   "outputs": [
    {
     "name": "stdout",
     "output_type": "stream",
     "text": [
      "6\n"
     ]
    }
   ],
   "source": [
    "# Ejercicio 49\n",
    "def numValoresDicc(d):\n",
    "    cont=0\n",
    "    for clave,valor in d.items():\n",
    "        cont+=len(valor)\n",
    "    print(cont)\n",
    "numValoresDicc({'a':[1,2,3],'b':['w',54],'c':[4]})"
   ]
  },
  {
   "cell_type": "code",
   "execution_count": 182,
   "id": "4f38cb7f",
   "metadata": {},
   "outputs": [
    {
     "name": "stdout",
     "output_type": "stream",
     "text": [
      "{'a': 4, 'b': 432, 't': 23231, 'x': 44}\n"
     ]
    }
   ],
   "source": [
    "# Ejercicio 50\n",
    "def concatDicc(d1,d2):\n",
    "    d1.update(d2)\n",
    "    return d1\n",
    "print(concatDicc({'a':4,'b':432},{'t':23231,'x':44}))"
   ]
  },
  {
   "cell_type": "code",
   "execution_count": 180,
   "id": "a8f68686",
   "metadata": {},
   "outputs": [
    {
     "name": "stdout",
     "output_type": "stream",
     "text": [
      "6\n"
     ]
    }
   ],
   "source": [
    "# Ejercicio 51\n",
    "def calculoFactorial(n):\n",
    "    sol=1\n",
    "    for i in range(1,n+1):\n",
    "        sol*=i\n",
    "    print(sol)\n",
    "calculoFactorial(3)"
   ]
  },
  {
   "cell_type": "code",
   "execution_count": 184,
   "id": "cbaa0da5",
   "metadata": {},
   "outputs": [
    {
     "data": {
      "text/plain": [
       "[5, 15, 25, 35, 45, 55, 65, 75, 85, 95]"
      ]
     },
     "execution_count": 184,
     "metadata": {},
     "output_type": "execute_result"
    }
   ],
   "source": [
    "# Ejercicio 52\n",
    "def divisoresMult(n,a,numUmbral):\n",
    "    lista=[]\n",
    "    for i in range(1,numUmbral):\n",
    "        if i % n==0 and i%a!=0:\n",
    "            lista.append(i)\n",
    "    return lista\n",
    "divisoresMult(5,2,100)"
   ]
  },
  {
   "cell_type": "code",
   "execution_count": 1,
   "id": "6ad44334",
   "metadata": {},
   "outputs": [
    {
     "name": "stdout",
     "output_type": "stream",
     "text": [
      "False\n",
      "True\n",
      "False\n"
     ]
    }
   ],
   "source": [
    "# Ejercicio 53\n",
    "def presenciaVocal(frase):\n",
    "    for i in frase:\n",
    "        if i in 'AEIOUaeiou':\n",
    "            return True\n",
    "    return False\n",
    "        \n",
    "print(presenciaVocal('DFGHrt'))\n",
    "print(presenciaVocal('La casa de papel'))\n",
    "print(presenciaVocal('Ll'))"
   ]
  },
  {
   "cell_type": "code",
   "execution_count": 2,
   "id": "9afe6145",
   "metadata": {},
   "outputs": [
    {
     "name": "stdout",
     "output_type": "stream",
     "text": [
      "Franciaeshermosa\n"
     ]
    }
   ],
   "source": [
    "#Ejercicio 54\n",
    "def eliminarEsp(frase):\n",
    "    return ''.join(frase.split(' '))\n",
    "print(eliminarEsp('Francia es hermosa'))"
   ]
  },
  {
   "cell_type": "code",
   "execution_count": 3,
   "id": "b7e32d4e",
   "metadata": {},
   "outputs": [
    {
     "name": "stdout",
     "output_type": "stream",
     "text": [
      "[2, 6]\n"
     ]
    }
   ],
   "source": [
    "#Ejercicio 55\n",
    "def posicionEltLista(L,x):\n",
    "    solution=[]\n",
    "    for i in range (len(L)):\n",
    "        if L[i]==x:\n",
    "            solution.append(i) \n",
    "    return solution\n",
    "    \n",
    "print(posicionEltLista([1,2,3,6,8,7,3],3))"
   ]
  },
  {
   "cell_type": "code",
   "execution_count": 4,
   "id": "72c1f0e9",
   "metadata": {},
   "outputs": [
    {
     "name": "stdout",
     "output_type": "stream",
     "text": [
      "Hola todos\n"
     ]
    }
   ],
   "source": [
    "#ejercicio 56\n",
    "def filtrarPalabras(frase,longitudMinima):\n",
    "    return' '.join([x for x in frase.split(' ') if len(x)>=longitudMinima])\n",
    "    \n",
    "print(filtrarPalabras('Hola a todos',4))"
   ]
  },
  {
   "cell_type": "code",
   "execution_count": 5,
   "id": "afa50e64",
   "metadata": {},
   "outputs": [
    {
     "name": "stdout",
     "output_type": "stream",
     "text": [
      "mundo el todo a Hola\n"
     ]
    }
   ],
   "source": [
    "#Ejercicio 57\n",
    "def invertirFrase(frase):\n",
    "    return ' '.join(frase.split(' ')[::-1])\n",
    "print(invertirFrase('Hola a todo el mundo'))\n"
   ]
  },
  {
   "cell_type": "code",
   "execution_count": 6,
   "id": "ac30af64",
   "metadata": {},
   "outputs": [
    {
     "name": "stdout",
     "output_type": "stream",
     "text": [
      "[(1, 1), ('b', 2), (2, 2), (3, 1), (4, 1)]\n"
     ]
    }
   ],
   "source": [
    "#Ejercicio 58\n",
    "def numeroOcurrencias(lista):\n",
    "    solution=[]\n",
    "    valor_ocurrencias=0\n",
    "    x=dict(zip(lista,map(lambda x: lista.count(x),lista)))\n",
    "    for i,j in x.items():\n",
    "        solution.append((i,j))\n",
    "    return solution\n",
    "        \n",
    "        \n",
    "        \n",
    "print(numeroOcurrencias([1,'b',2,3,2,4,'b']))\n",
    "        "
   ]
  },
  {
   "cell_type": "code",
   "execution_count": 7,
   "id": "34909c21",
   "metadata": {},
   "outputs": [
    {
     "name": "stdout",
     "output_type": "stream",
     "text": [
      "[-7, 2, 3, 4, 9]\n"
     ]
    }
   ],
   "source": [
    "#Ejercicio 59\n",
    "def unionLista(l1,l2,l3):\n",
    "    solution=[]\n",
    "    listas=[l1,l2,l3]\n",
    "    n=0\n",
    "    while n <=len(listas)-1:\n",
    "        for i in listas[n]:\n",
    "            if i not in solution:\n",
    "                solution.append(i)\n",
    "        n+=1\n",
    "    return sorted(solution)\n",
    "print(unionLista([4,2,3],[],[4,-7,9]))\n"
   ]
  },
  {
   "cell_type": "code",
   "execution_count": 3,
   "id": "7ec01d0a",
   "metadata": {},
   "outputs": [
    {
     "name": "stdout",
     "output_type": "stream",
     "text": [
      "6\n"
     ]
    }
   ],
   "source": [
    "# Ejercicio 60\n",
    "def mcd(a,b):\n",
    "    if a==0:\n",
    "        return b\n",
    "    elif b==0:\n",
    "        return a\n",
    "    else:\n",
    "        c=a%b\n",
    "        return mcd(b,c)\n",
    "print(mcd(270,192))"
   ]
  },
  {
   "cell_type": "code",
   "execution_count": 6,
   "id": "6716077d",
   "metadata": {},
   "outputs": [
    {
     "name": "stdout",
     "output_type": "stream",
     "text": [
      "Hola, yo soy un estudiante de python. y yo me llamo Javier\n",
      "\n"
     ]
    }
   ],
   "source": [
    "# Ejercicio 61\n",
    "# Abre un archivo para escribir (crea uno si no existe)\n",
    "with open('prueba.txt', 'w') as archivo:\n",
    "    archivo.write('Hola, yo soy un estudiante de python. y yo me llamo Javier\\n')\n",
    "def leerFichero(rutaFichero):\n",
    "    with open(rutaFichero, 'r') as archivo:\n",
    "        contenido = archivo.read()\n",
    "    print(contenido)\n",
    "leerFichero('prueba.txt')"
   ]
  },
  {
   "cell_type": "code",
   "execution_count": 48,
   "id": "6f2be3fd",
   "metadata": {},
   "outputs": [
    {
     "name": "stdout",
     "output_type": "stream",
     "text": [
      "2\n"
     ]
    }
   ],
   "source": [
    "#Ejercicio 62\n",
    "def numOcFichero(rutaFichero, palabra):\n",
    "    try:\n",
    "        with open(rutaFichero, \"r\") as archivo:\n",
    "            contenido = archivo.read()\n",
    "            palabras = contenido.lower().split()\n",
    "            frecuencia_palabras = {}\n",
    "            for palabra2 in palabras:\n",
    "                palabra2 = ''.join(c for c in palabra2 if c.isalpha())\n",
    "                frecuencia_palabras[palabra2] = frecuencia_palabras.get(palabra2, 0) + 1\n",
    "\n",
    "            if palabra2 in frecuencia_palabras:\n",
    "                return frecuencia_palabras[palabra]\n",
    "            else:\n",
    "                return 0\n",
    "    except FileNotFoundError:\n",
    "        print(f\"El archivo {rutaFichero} no fue encontrado.\")\n",
    "        return 0\n",
    "\n",
    "# Ejemplo de uso\n",
    "print(numOcFichero('prueba.txt', 'yo'))\n"
   ]
  },
  {
   "cell_type": "code",
   "execution_count": 47,
   "id": "b494b03d",
   "metadata": {},
   "outputs": [
    {
     "name": "stdout",
     "output_type": "stream",
     "text": [
      "Hola yo soy un estudiante de python.Y yo me llamo Javier.\n",
      "\n"
     ]
    }
   ],
   "source": [
    "# Ejercicio 63\n",
    "def eliminarCaracter(rutaFichero, caracter):\n",
    "    try:\n",
    "        with open(rutaFichero, \"r\") as archivo:\n",
    "            contenido = archivo.read()\n",
    "\n",
    "        contenido_sin_caracter = contenido.replace(caracter, '')\n",
    "        return contenido_sin_caracter\n",
    "    except FileNotFoundError:\n",
    "        print(f\"El archivo {rutaFichero} no fue encontrado.\")\n",
    "        return 0\n",
    "print(eliminarCaracter('prueba.txt', ','))"
   ]
  },
  {
   "cell_type": "code",
   "execution_count": 8,
   "id": "28af21a9",
   "metadata": {},
   "outputs": [
    {
     "name": "stdout",
     "output_type": "stream",
     "text": [
      "True\n"
     ]
    }
   ],
   "source": [
    "# Ejercicio 64\n",
    "def presenciaNumero(rutaFichero):\n",
    "    try:\n",
    "        with open(rutaFichero, 'r') as archivo:\n",
    "            for linea in archivo:\n",
    "                palabras = linea.split()\n",
    "                for palabra in palabras:\n",
    "                    try:\n",
    "                        int(palabra)\n",
    "                        return True\n",
    "                    except ValueError:\n",
    "                        pass\n",
    "        return False\n",
    "    except FileNotFoundError:\n",
    "        print(f\"El archivo {rutaFichero} no se encontró.\")\n",
    "        return False\n",
    "\n",
    "# Ejemplo de uso\n",
    "ruta_del_archivo = \"prueba.txt\"\n",
    "resultado = presenciaNumero(ruta_del_archivo)\n",
    "print(resultado)\n",
    "\n"
   ]
  },
  {
   "cell_type": "code",
   "execution_count": 13,
   "id": "a21701d0",
   "metadata": {},
   "outputs": [
    {
     "name": "stdout",
     "output_type": "stream",
     "text": [
      "Archivos en el directorio:\n",
      ".git\n",
      ".ipynb_checkpoints\n",
      "100_ejercicios_python.ipynb\n",
      "libro.png\n",
      "LICENSE\n",
      "prueba.txt\n",
      "README.md\n",
      "La cantidad de archivos en C:\\Users\\sgcov\\Desktop\\tokio\\libro\\100-Ejercicios-Python- es: 7\n"
     ]
    }
   ],
   "source": [
    "# Ejercicio 65\n",
    "\n",
    "import os\n",
    "\n",
    "def nombreFichero(rutaDirectorio):\n",
    "    try:\n",
    "        lista_archivos = os.listdir(rutaDirectorio)\n",
    "\n",
    "        cantidad = len(lista_archivos)\n",
    "\n",
    "        print(\"Archivos en el directorio:\")\n",
    "        for archivo in lista_archivos:\n",
    "            print(archivo)\n",
    "\n",
    "        return cantidad\n",
    "    except FileNotFoundError:\n",
    "        print(f\"El directorio {rutaDirectorio} no se encontró.\")\n",
    "        return 0 \n",
    "ruta_del_directorio = \"C:\\\\Users\\\\sgcov\\\\Desktop\\\\tokio\\\\libro\\\\100-Ejercicios-Python-\"\n",
    "cantidad = nombreFichero(ruta_del_directorio)\n",
    "print(f\"La cantidad de archivos en {ruta_del_directorio} es: {cantidad}\")\n"
   ]
  },
  {
   "cell_type": "code",
   "execution_count": 15,
   "id": "2acc9b32",
   "metadata": {},
   "outputs": [
    {
     "name": "stdout",
     "output_type": "stream",
     "text": [
      "Introduce nombre del fichero: prueba_02.txt\n",
      "Introduce el texo: Este texto es una prueba para el ejercicio 66.\n"
     ]
    }
   ],
   "source": [
    "# Ejercicio 66\n",
    "def escribirFiechero(nomFichero,texto):\n",
    "    # Abre un archivo para escribir (crea uno si no existe)\n",
    "    with open(nomFichero, 'w') as archivo:\n",
    "        archivo.write(texto)\n",
    "if __name__ == '__main__':\n",
    "    nombre_fichero=input('Introduce nombre del fichero: ')\n",
    "    texto=input('Introduce el texo: ')\n",
    "    escribirFiechero(nombre_fichero,texto)\n"
   ]
  },
  {
   "cell_type": "code",
   "execution_count": 27,
   "id": "0d7bc602",
   "metadata": {},
   "outputs": [
    {
     "name": "stdout",
     "output_type": "stream",
     "text": [
      "wer\n"
     ]
    }
   ],
   "source": [
    "# Ejercicio 67\n",
    "def claveMaxValDicc(d):\n",
    "    return [key for key, val in d.items() if val == max(d.values())]\n",
    "d2={'asd':[3,4,5,4],'lkj':[4,5,6],'wer':[6,8,76,34,2,1],'oiu':[3,4]}\n",
    "print(*claveMaxValDicc(d2))"
   ]
  },
  {
   "cell_type": "code",
   "execution_count": 31,
   "id": "25572713",
   "metadata": {},
   "outputs": [
    {
     "name": "stdout",
     "output_type": "stream",
     "text": [
      "Introduce valores separados por una ,: 4,5,654,987,123\n",
      "[4, 5, 654, 987, 123]\n"
     ]
    }
   ],
   "source": [
    "# Ejercicio 68\n",
    "lista_usuario=[]\n",
    "texto=input('Introduce valores separados por una ,: ')\n",
    "texto=texto.split(',')\n",
    "for i in texto:\n",
    "    lista_usuario.append(int(i))\n",
    "print(lista_usuario)\n"
   ]
  },
  {
   "cell_type": "code",
   "execution_count": 17,
   "id": "fb04607b",
   "metadata": {},
   "outputs": [
    {
     "name": "stdout",
     "output_type": "stream",
     "text": [
      "(36, 864)\n"
     ]
    }
   ],
   "source": [
    "# Ejercicio 69\n",
    "\n",
    "def numDiasHoras(fechaInicio, fechaFin):\n",
    "    fechaInicio = datetime.strptime(fechaInicio, '%Y-%m-%d')\n",
    "    fechaFin = datetime.strptime(fechaFin, '%Y-%m-%d')\n",
    "    diferencia = fechaFin -fechaInicio\n",
    "    dias = diferencia.days\n",
    "    horas = (dias*24)\n",
    "    return dias, horas\n",
    "\n",
    "resultado = numDiasHoras('2022-05-15', '2022-06-20')\n",
    "print(resultado)"
   ]
  },
  {
   "cell_type": "code",
   "execution_count": 22,
   "id": "5921f460",
   "metadata": {},
   "outputs": [
    {
     "name": "stdout",
     "output_type": "stream",
     "text": [
      "ewalkgioea\n"
     ]
    }
   ],
   "source": [
    "# Ejercicio 70\n",
    "import random\n",
    "def generarContrasena(caracteres,longitud):\n",
    "    password=''\n",
    "    while len(password)!=longitud:\n",
    "        password += random.choice(caracteres)\n",
    "    print(password)\n",
    "generarContrasena(['a','g','b','w','k','e','o','i','l'],10)"
   ]
  },
  {
   "cell_type": "code",
   "execution_count": 24,
   "id": "122b5d10",
   "metadata": {},
   "outputs": [
    {
     "name": "stdout",
     "output_type": "stream",
     "text": [
      "9.207106781186548\n"
     ]
    }
   ],
   "source": [
    "# Ejercicio 71\n",
    "import math\n",
    "\n",
    "def funTrigo(x):\n",
    "    return math.cos(x)*math.sin(x)+math.sin(x)+8\n",
    "a=funTrigo(math.pi/4)\n",
    "print(a)"
   ]
  },
  {
   "cell_type": "code",
   "execution_count": 70,
   "id": "bc14febb",
   "metadata": {},
   "outputs": [
    {
     "name": "stdout",
     "output_type": "stream",
     "text": [
      "[100, 123, 132, 138, 145, 154, 159, 167, 176, 183, 189, 195, 198, 200, 202, 213, 220, 224, 231, 235, 242, 246, 253, 257, 264, 268, 275, 279, 286, 297, 300, 306, 312, 318, 321, 325, 333, 345, 347, 352, 354, 357, 360, 369, 374, 375, 381, 396, 400, 404, 415, 422, 426, 435, 437, 440, 448, 451, 453, 456, 459, 462, 465, 466, 473, 484, 495, 500, 514, 519, 523, 527, 532, 534, 537, 541, 543, 546, 549, 564, 572, 573, 578, 579, 587, 591, 594, 597, 600, 603, 606, 617, 624, 628, 630, 639, 642, 645, 646, 654, 660, 664, 666, 671, 678, 682, 687, 693, 700, 716, 725, 729, 734, 735, 743, 752, 753, 758, 759, 761, 768, 785, 786, 789, 792, 795, 798, 800, 808, 813, 819, 826, 831, 844, 857, 862, 867, 875, 876, 879, 880, 891, 897, 900, 915, 918, 927, 936, 945, 951, 954, 957, 963, 972, 975, 978, 981, 987, 999]\n"
     ]
    }
   ],
   "source": [
    "# Ejercicio 72\n",
    "L = []\n",
    "\n",
    "def filtro(n):\n",
    "    producto = 1\n",
    "    digitos = [int(i) for i in str(n) if i!='0']\n",
    "    for digito in digitos:\n",
    "        producto *= digito\n",
    "    suma_digitos = sum(digitos)\n",
    "    if producto % suma_digitos == 0:\n",
    "        return True\n",
    "    \n",
    "\n",
    "for numero in range(100, 1000):\n",
    "    if filtro(numero):\n",
    "        L.append(numero)\n",
    "    else:\n",
    "        False\n",
    "                 \n",
    "\n",
    "print(L)\n"
   ]
  },
  {
   "cell_type": "code",
   "execution_count": 71,
   "id": "fce75915",
   "metadata": {},
   "outputs": [
    {
     "name": "stdout",
     "output_type": "stream",
     "text": [
      "24\n"
     ]
    }
   ],
   "source": [
    "# Ejercicio 73\n",
    "def calcularSumaRecursiva(L):\n",
    "    if not L:\n",
    "        return 0\n",
    "    else:\n",
    "        return L[0] + calcularSumaRecursiva(L[1:])\n",
    "\n",
    "resultado = calcularSumaRecursiva([3, 2, 6, 9, -1, 5])\n",
    "print(resultado)"
   ]
  },
  {
   "cell_type": "code",
   "execution_count": 102,
   "id": "ef3188d5",
   "metadata": {},
   "outputs": [
    {
     "data": {
      "text/plain": [
       "75025"
      ]
     },
     "execution_count": 102,
     "metadata": {},
     "output_type": "execute_result"
    }
   ],
   "source": [
    "# Ejercicio 74\n",
    "\n",
    "def secuenciaFibonachi(N):\n",
    "    if N == 0:\n",
    "        return 0\n",
    "    elif N == 1:\n",
    "        return 1\n",
    "    else:\n",
    "        return secuenciaFibonachi(N - 1) + secuenciaFibonachi(N - 2)\n",
    "secuenciaFibonachi(25)"
   ]
  },
  {
   "cell_type": "code",
   "execution_count": 8,
   "id": "5067822f",
   "metadata": {},
   "outputs": [
    {
     "name": "stdout",
     "output_type": "stream",
     "text": [
      "True\n",
      "False\n"
     ]
    }
   ],
   "source": [
    "# Ejercicio 75\n",
    "def numeroPar(n):\n",
    "    if n-1%2==0:\n",
    "        return False\n",
    "    else:\n",
    "        return numeroImpar(n-1)\n",
    "def numeroImpar(n):\n",
    "    if n-1%2==0:\n",
    "        return True\n",
    "    else:\n",
    "        return numeroPar(n-1)\n",
    "print(numeroPar(8))\n",
    "print(numeroImpar(8))"
   ]
  },
  {
   "cell_type": "code",
   "execution_count": 11,
   "id": "54d4b7b0",
   "metadata": {},
   "outputs": [
    {
     "name": "stdout",
     "output_type": "stream",
     "text": [
      "Hola.¿Estas bien\n"
     ]
    }
   ],
   "source": [
    "# Ejercicio 76\n",
    "def join(L,caracter):\n",
    "    sol=''\n",
    "    for i in L:\n",
    "        sol+=i+caracter\n",
    "    print(sol[:-1])\n",
    "join(['Hola','¿Estas bien'],'.')"
   ]
  },
  {
   "cell_type": "code",
   "execution_count": 16,
   "id": "8a649749",
   "metadata": {},
   "outputs": [
    {
     "name": "stdout",
     "output_type": "stream",
     "text": [
      "['hola', 'javi', 'que tal']\n"
     ]
    }
   ],
   "source": [
    "# Ejercicio 77\n",
    "def reemplazar(frase,palabra,nuevaPalabra):\n",
    "    for i in frase:\n",
    "        if i==palabra:\n",
    "            n=frase.index(i)\n",
    "            frase.remove(palabra)\n",
    "            frase.insert(n, nuevaPalabra)\n",
    "    print(frase)\n",
    "reemplazar(['hola','pepe','que tal'],'pepe','javi')"
   ]
  },
  {
   "cell_type": "code",
   "execution_count": null,
   "id": "c7b71428",
   "metadata": {},
   "outputs": [],
   "source": [
    "# Ejercicio 78\n",
    "\n"
   ]
  }
 ],
 "metadata": {
  "kernelspec": {
   "display_name": "Python 3 (ipykernel)",
   "language": "python",
   "name": "python3"
  },
  "language_info": {
   "codemirror_mode": {
    "name": "ipython",
    "version": 3
   },
   "file_extension": ".py",
   "mimetype": "text/x-python",
   "name": "python",
   "nbconvert_exporter": "python",
   "pygments_lexer": "ipython3",
   "version": "3.9.13"
  }
 },
 "nbformat": 4,
 "nbformat_minor": 5
}
