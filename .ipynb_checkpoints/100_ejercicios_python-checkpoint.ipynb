{
 "cells": [
  {
   "cell_type": "code",
   "execution_count": null,
   "id": "debcb1e0",
   "metadata": {},
   "outputs": [],
   "source": []
  },
  {
   "cell_type": "code",
   "execution_count": 8,
   "id": "66e8cf3a",
   "metadata": {},
   "outputs": [
    {
     "name": "stdout",
     "output_type": "stream",
     "text": [
      "1 Francia 36.2\n"
     ]
    }
   ],
   "source": [
    "#Ejercicio 1\n",
    "a,b,c=1,'Francia',36.2\n",
    "print(a,b,c)"
   ]
  },
  {
   "cell_type": "code",
   "execution_count": 9,
   "id": "83ae0294",
   "metadata": {},
   "outputs": [
    {
     "name": "stdout",
     "output_type": "stream",
     "text": [
      "Está bien\n"
     ]
    }
   ],
   "source": [
    "#Ejercicio 2\n",
    "ch='Hola'\n",
    "ch='Está bien'\n",
    "print(ch)"
   ]
  },
  {
   "cell_type": "code",
   "execution_count": 15,
   "id": "76759f77",
   "metadata": {},
   "outputs": [
    {
     "name": "stdout",
     "output_type": "stream",
     "text": [
      "<class 'str'>\n",
      "<class 'str'>\n"
     ]
    }
   ],
   "source": [
    "#Ejercicio 3\n",
    "x,y=3,8.5\n",
    "x=str()\n",
    "y=str()\n",
    "print(type(x))\n",
    "print(type(y))"
   ]
  },
  {
   "cell_type": "code",
   "execution_count": 18,
   "id": "aa177d97",
   "metadata": {},
   "outputs": [
    {
     "name": "stdout",
     "output_type": "stream",
     "text": [
      "Introduce tu peso en Kg: 85\n",
      "El peso introducido es de 85Kg\n"
     ]
    }
   ],
   "source": [
    "#Ejercicio 4\n",
    "peso=int(input('Introduce tu peso en Kg: '))\n",
    "print(f'El peso introducido es de {peso}Kg')"
   ]
  },
  {
   "cell_type": "code",
   "execution_count": 15,
   "id": "78ff6ebe",
   "metadata": {},
   "outputs": [
    {
     "name": "stdout",
     "output_type": "stream",
     "text": [
      "cadena de caracteres\n"
     ]
    }
   ],
   "source": [
    "#Ejercicio 5\n",
    "var='Hola'\n",
    "if var*0==0:\n",
    "    print('Entero')\n",
    "else: \n",
    "    print('cadena de caracteres')"
   ]
  },
  {
   "cell_type": "code",
   "execution_count": 21,
   "id": "9efebf0a",
   "metadata": {},
   "outputs": [
    {
     "name": "stdout",
     "output_type": "stream",
     "text": [
      "Positivo\n"
     ]
    }
   ],
   "source": [
    "#Ejercicio 6\n",
    "d=5\n",
    "if d>0:\n",
    "  print('Positivo')\n",
    "elif  d<0:\n",
    "    print('Negativo')\n",
    "else:\n",
    "    print('d=0')"
   ]
  },
  {
   "cell_type": "code",
   "execution_count": 29,
   "id": "9299bab3",
   "metadata": {},
   "outputs": [
    {
     "name": "stdout",
     "output_type": "stream",
     "text": [
      "Introduce tu edad: 54\n",
      "El usuario es mayor de edad\n"
     ]
    }
   ],
   "source": [
    "#Ejercicio 7\n",
    "edad=int(input('Introduce tu edad: '))\n",
    "if edad >=18:\n",
    "    print('El usuario es mayor de edad')\n",
    "elif edad<18 and edad>=0:\n",
    "    print('El usuario es menor de edad')\n",
    "else:\n",
    "    print('El usuario no puede tener una edad negativa')    "
   ]
  },
  {
   "cell_type": "code",
   "execution_count": 33,
   "id": "5d5037f4",
   "metadata": {},
   "outputs": [
    {
     "name": "stdout",
     "output_type": "stream",
     "text": [
      "1\n",
      "2\n",
      "3\n",
      "4\n",
      "5\n",
      "6\n",
      "7\n",
      "8\n",
      "9\n",
      "10\n",
      "11\n",
      "12\n",
      "13\n",
      "14\n",
      "15\n",
      "16\n",
      "17\n",
      "18\n",
      "19\n",
      "20\n",
      "1\n",
      "2\n",
      "3\n",
      "4\n",
      "5\n",
      "6\n",
      "7\n",
      "8\n",
      "9\n",
      "10\n",
      "11\n",
      "12\n",
      "13\n",
      "14\n",
      "15\n",
      "16\n",
      "17\n",
      "18\n",
      "19\n",
      "20\n"
     ]
    }
   ],
   "source": [
    "#Ejercicio 8\n",
    "for numero in range(1,21):\n",
    "    print(numero)\n",
    "numero_b=1\n",
    "while numero_b<21:\n",
    "    print(numero_b)\n",
    "    numero_b+=1\n"
   ]
  },
  {
   "cell_type": "code",
   "execution_count": 35,
   "id": "99ad1e3a",
   "metadata": {},
   "outputs": [
    {
     "name": "stdout",
     "output_type": "stream",
     "text": [
      "11\n",
      "13\n",
      "15\n",
      "17\n",
      "19\n",
      "11\n",
      "13\n",
      "15\n",
      "17\n",
      "19\n"
     ]
    }
   ],
   "source": [
    "#Ejercicio 9\n",
    "for i in range (10,21):\n",
    "    if i%2!=0:\n",
    "        print(i)\n",
    "n=10\n",
    "while n<21:\n",
    "    if n%2!=0:\n",
    "        print(n)\n",
    "    n+=1"
   ]
  },
  {
   "cell_type": "code",
   "execution_count": 36,
   "id": "ba6f6a13",
   "metadata": {},
   "outputs": [
    {
     "name": "stdout",
     "output_type": "stream",
     "text": [
      "[1, 2, 3, 4, 5, 6, 7, 8, 9, 10]\n"
     ]
    }
   ],
   "source": [
    "#Ejercicio 10\n",
    "print([i for i in range(1,11)])"
   ]
  },
  {
   "cell_type": "code",
   "execution_count": 37,
   "id": "196c4702",
   "metadata": {},
   "outputs": [
    {
     "name": "stdout",
     "output_type": "stream",
     "text": [
      "[2, 4, 6, 8, 10]\n"
     ]
    }
   ],
   "source": [
    "#Ejercicio 11\n",
    "print([i for i in range(1,11) if i%2==0])"
   ]
  },
  {
   "cell_type": "code",
   "execution_count": 2,
   "id": "3d278dba",
   "metadata": {},
   "outputs": [
    {
     "name": "stdout",
     "output_type": "stream",
     "text": [
      "[1, 2, 3, 4, 6, 8, 9.2, 12]\n"
     ]
    }
   ],
   "source": [
    "#Ejercicio 12\n",
    "L=[6,8,3,4,1,12,2,9.2]\n",
    "L.sort()\n",
    "print(L)"
   ]
  },
  {
   "cell_type": "code",
   "execution_count": 6,
   "id": "cfc886bd",
   "metadata": {},
   "outputs": [
    {
     "name": "stdout",
     "output_type": "stream",
     "text": [
      "2\n"
     ]
    }
   ],
   "source": [
    "#Ejercicio 13\n",
    "L=[3,2,2,1,9,1,2,3,7]\n",
    "cont=0\n",
    "for i in L:\n",
    "    if i==1:\n",
    "        cont+=1\n",
    "print(cont)\n"
   ]
  },
  {
   "cell_type": "code",
   "execution_count": 7,
   "id": "36d21d0c",
   "metadata": {},
   "outputs": [
    {
     "name": "stdout",
     "output_type": "stream",
     "text": [
      "[10, 25, 30, 45, 90, 'ab', 'cd', 'ef']\n"
     ]
    }
   ],
   "source": [
    "#Ejercicio 14\n",
    "L=[]\n",
    "lista=[10,25,30,45,90,'ab','cd','ef']\n",
    "for i in lista:\n",
    "    L.append(i)\n",
    "print(L)"
   ]
  },
  {
   "cell_type": "code",
   "execution_count": 8,
   "id": "bbd066c0",
   "metadata": {},
   "outputs": [
    {
     "name": "stdout",
     "output_type": "stream",
     "text": [
      "[1, 4, 7, 10]\n"
     ]
    }
   ],
   "source": [
    "#Ejercicio 15\n",
    "L=[i for i in range(1,11)]\n",
    "L1=[i for i in L[::3]]\n",
    "print(L1)"
   ]
  },
  {
   "cell_type": "code",
   "execution_count": 23,
   "id": "f8d965a8",
   "metadata": {},
   "outputs": [
    {
     "name": "stdout",
     "output_type": "stream",
     "text": [
      "aacfir\n"
     ]
    }
   ],
   "source": [
    "#Ejercicio 16\n",
    "c='fracia'\n",
    "l=[]\n",
    "for i in c:\n",
    "    l.append(i)\n",
    "    l.sort()\n",
    "print(''.join(l))"
   ]
  },
  {
   "cell_type": "code",
   "execution_count": 25,
   "id": "28fcd544",
   "metadata": {},
   "outputs": [
    {
     "name": "stdout",
     "output_type": "stream",
     "text": [
      "[9, 8, 7, 14, 3, 2, 'a', 'p', 'hola', 'b', 1, 6]\n"
     ]
    }
   ],
   "source": [
    "#Ejercicio 17\n",
    "L1=[9,8,7,14,3,2,'a','p','hola','b']\n",
    "L2=['b',1,9,2,6,3,9,'p']\n",
    "L3=L1+[i for i in L2 if i not in L1]\n",
    "print(L3)"
   ]
  },
  {
   "cell_type": "code",
   "execution_count": 48,
   "id": "4baf75d8",
   "metadata": {},
   "outputs": [
    {
     "name": "stdout",
     "output_type": "stream",
     "text": [
      "[('Melocoton', 2), ('Banana', 8), ('Kiwi', 9), ('Fresa', 12), ('Manzana', 15)]\n"
     ]
    }
   ],
   "source": [
    "#Ejercicio 18\n",
    "L=[('Manzana',15),('Banana',8),('Fresa',12),('Kiwi',9),('Melocoton',2)]\n",
    "L_modificada=sorted(L,key=lambda x: x[1])\n",
    "print(L_modificada)"
   ]
  },
  {
   "cell_type": "code",
   "execution_count": null,
   "id": "731f6a33",
   "metadata": {},
   "outputs": [],
   "source": [
    "#Ejercicio 19"
   ]
  },
  {
   "cell_type": "code",
   "execution_count": 1,
   "id": "6ad44334",
   "metadata": {},
   "outputs": [
    {
     "name": "stdout",
     "output_type": "stream",
     "text": [
      "False\n",
      "True\n",
      "False\n"
     ]
    }
   ],
   "source": [
    "#Ejercicio 53\n",
    "def presenciaVocal(frase):\n",
    "    for i in frase:\n",
    "        if i in 'AEIOUaeiou':\n",
    "            return True\n",
    "    return False\n",
    "        \n",
    "print(presenciaVocal('DFGHrt'))\n",
    "print(presenciaVocal('La casa de papel'))\n",
    "print(presenciaVocal('Ll'))"
   ]
  },
  {
   "cell_type": "code",
   "execution_count": 2,
   "id": "9afe6145",
   "metadata": {},
   "outputs": [
    {
     "name": "stdout",
     "output_type": "stream",
     "text": [
      "Franciaeshermosa\n"
     ]
    }
   ],
   "source": [
    "#Ejercicio 54\n",
    "def eliminarEsp(frase):\n",
    "    return ''.join(frase.split(' '))\n",
    "print(eliminarEsp('Francia es hermosa'))"
   ]
  },
  {
   "cell_type": "code",
   "execution_count": 3,
   "id": "b7e32d4e",
   "metadata": {},
   "outputs": [
    {
     "name": "stdout",
     "output_type": "stream",
     "text": [
      "[2, 6]\n"
     ]
    }
   ],
   "source": [
    "#Ejercicio 55\n",
    "def posicionEltLista(L,x):\n",
    "    solution=[]\n",
    "    for i in range (len(L)):\n",
    "        if L[i]==x:\n",
    "            solution.append(i) \n",
    "    return solution\n",
    "    \n",
    "print(posicionEltLista([1,2,3,6,8,7,3],3))"
   ]
  },
  {
   "cell_type": "code",
   "execution_count": 4,
   "id": "72c1f0e9",
   "metadata": {},
   "outputs": [
    {
     "name": "stdout",
     "output_type": "stream",
     "text": [
      "Hola todos\n"
     ]
    }
   ],
   "source": [
    "#ejercicio 56\n",
    "def filtrarPalabras(frase,longitudMinima):\n",
    "    return' '.join([x for x in frase.split(' ') if len(x)>=longitudMinima])\n",
    "    \n",
    "print(filtrarPalabras('Hola a todos',4))"
   ]
  },
  {
   "cell_type": "code",
   "execution_count": 5,
   "id": "afa50e64",
   "metadata": {},
   "outputs": [
    {
     "name": "stdout",
     "output_type": "stream",
     "text": [
      "mundo el todo a Hola\n"
     ]
    }
   ],
   "source": [
    "#Ejercicio 57\n",
    "def invertirFrase(frase):\n",
    "    return ' '.join(frase.split(' ')[::-1])\n",
    "print(invertirFrase('Hola a todo el mundo'))\n"
   ]
  },
  {
   "cell_type": "code",
   "execution_count": 6,
   "id": "ac30af64",
   "metadata": {},
   "outputs": [
    {
     "name": "stdout",
     "output_type": "stream",
     "text": [
      "[(1, 1), ('b', 2), (2, 2), (3, 1), (4, 1)]\n"
     ]
    }
   ],
   "source": [
    "#Ejercicio 58\n",
    "def numeroOcurrencias(lista):\n",
    "    solution=[]\n",
    "    valor_ocurrencias=0\n",
    "    x=dict(zip(lista,map(lambda x: lista.count(x),lista)))\n",
    "    for i,j in x.items():\n",
    "        solution.append((i,j))\n",
    "    return solution\n",
    "        \n",
    "        \n",
    "        \n",
    "print(numeroOcurrencias([1,'b',2,3,2,4,'b']))\n",
    "        "
   ]
  },
  {
   "cell_type": "code",
   "execution_count": 7,
   "id": "34909c21",
   "metadata": {},
   "outputs": [
    {
     "name": "stdout",
     "output_type": "stream",
     "text": [
      "[-7, 2, 3, 4, 9]\n"
     ]
    }
   ],
   "source": [
    "#Ejercicio 59\n",
    "def unionLista(l1,l2,l3):\n",
    "    solution=[]\n",
    "    listas=[l1,l2,l3]\n",
    "    n=0\n",
    "    while n <=len(listas)-1:\n",
    "        for i in listas[n]:\n",
    "            if i not in solution:\n",
    "                solution.append(i)\n",
    "        n+=1\n",
    "    return sorted(solution)\n",
    "print(unionLista([4,2,3],[],[4,-7,9]))\n"
   ]
  }
 ],
 "metadata": {
  "kernelspec": {
   "display_name": "Python 3 (ipykernel)",
   "language": "python",
   "name": "python3"
  },
  "language_info": {
   "codemirror_mode": {
    "name": "ipython",
    "version": 3
   },
   "file_extension": ".py",
   "mimetype": "text/x-python",
   "name": "python",
   "nbconvert_exporter": "python",
   "pygments_lexer": "ipython3",
   "version": "3.9.13"
  }
 },
 "nbformat": 4,
 "nbformat_minor": 5
}
