{
 "cells": [
  {
   "cell_type": "code",
   "execution_count": null,
   "id": "debcb1e0",
   "metadata": {},
   "outputs": [],
   "source": []
  },
  {
   "cell_type": "code",
   "execution_count": 8,
   "id": "66e8cf3a",
   "metadata": {},
   "outputs": [
    {
     "name": "stdout",
     "output_type": "stream",
     "text": [
      "1 Francia 36.2\n"
     ]
    }
   ],
   "source": [
    "#Ejercicio 1\n",
    "a,b,c=1,'Francia',36.2\n",
    "print(a,b,c)"
   ]
  },
  {
   "cell_type": "code",
   "execution_count": 9,
   "id": "83ae0294",
   "metadata": {},
   "outputs": [
    {
     "name": "stdout",
     "output_type": "stream",
     "text": [
      "Está bien\n"
     ]
    }
   ],
   "source": [
    "#Ejercicio 2\n",
    "ch='Hola'\n",
    "ch='Está bien'\n",
    "print(ch)"
   ]
  },
  {
   "cell_type": "code",
   "execution_count": 15,
   "id": "76759f77",
   "metadata": {},
   "outputs": [
    {
     "name": "stdout",
     "output_type": "stream",
     "text": [
      "<class 'str'>\n",
      "<class 'str'>\n"
     ]
    }
   ],
   "source": [
    "#Ejercicio 3\n",
    "x,y=3,8.5\n",
    "x=str()\n",
    "y=str()\n",
    "print(type(x))\n",
    "print(type(y))"
   ]
  },
  {
   "cell_type": "code",
   "execution_count": 18,
   "id": "aa177d97",
   "metadata": {},
   "outputs": [
    {
     "name": "stdout",
     "output_type": "stream",
     "text": [
      "Introduce tu peso en Kg: 85\n",
      "El peso introducido es de 85Kg\n"
     ]
    }
   ],
   "source": [
    "#Ejercicio 4\n",
    "peso=int(input('Introduce tu peso en Kg: '))\n",
    "print(f'El peso introducido es de {peso}Kg')"
   ]
  },
  {
   "cell_type": "code",
   "execution_count": null,
   "id": "78ff6ebe",
   "metadata": {},
   "outputs": [],
   "source": []
  },
  {
   "cell_type": "code",
   "execution_count": 1,
   "id": "6ad44334",
   "metadata": {},
   "outputs": [
    {
     "name": "stdout",
     "output_type": "stream",
     "text": [
      "False\n",
      "True\n",
      "False\n"
     ]
    }
   ],
   "source": [
    "#Ejercicio 53\n",
    "def presenciaVocal(frase):\n",
    "    for i in frase:\n",
    "        if i in 'AEIOUaeiou':\n",
    "            return True\n",
    "    return False\n",
    "        \n",
    "print(presenciaVocal('DFGHrt'))\n",
    "print(presenciaVocal('La casa de papel'))\n",
    "print(presenciaVocal('Ll'))"
   ]
  },
  {
   "cell_type": "code",
   "execution_count": 2,
   "id": "9afe6145",
   "metadata": {},
   "outputs": [
    {
     "name": "stdout",
     "output_type": "stream",
     "text": [
      "Franciaeshermosa\n"
     ]
    }
   ],
   "source": [
    "#Ejercicio 54\n",
    "def eliminarEsp(frase):\n",
    "    return ''.join(frase.split(' '))\n",
    "print(eliminarEsp('Francia es hermosa'))"
   ]
  },
  {
   "cell_type": "code",
   "execution_count": 3,
   "id": "b7e32d4e",
   "metadata": {},
   "outputs": [
    {
     "name": "stdout",
     "output_type": "stream",
     "text": [
      "[2, 6]\n"
     ]
    }
   ],
   "source": [
    "#Ejercicio 55\n",
    "def posicionEltLista(L,x):\n",
    "    solution=[]\n",
    "    for i in range (len(L)):\n",
    "        if L[i]==x:\n",
    "            solution.append(i) \n",
    "    return solution\n",
    "    \n",
    "print(posicionEltLista([1,2,3,6,8,7,3],3))"
   ]
  },
  {
   "cell_type": "code",
   "execution_count": 4,
   "id": "72c1f0e9",
   "metadata": {},
   "outputs": [
    {
     "name": "stdout",
     "output_type": "stream",
     "text": [
      "Hola todos\n"
     ]
    }
   ],
   "source": [
    "#ejercicio 56\n",
    "def filtrarPalabras(frase,longitudMinima):\n",
    "    return' '.join([x for x in frase.split(' ') if len(x)>=longitudMinima])\n",
    "    \n",
    "print(filtrarPalabras('Hola a todos',4))"
   ]
  },
  {
   "cell_type": "code",
   "execution_count": 5,
   "id": "afa50e64",
   "metadata": {},
   "outputs": [
    {
     "name": "stdout",
     "output_type": "stream",
     "text": [
      "mundo el todo a Hola\n"
     ]
    }
   ],
   "source": [
    "#Ejercicio 57\n",
    "def invertirFrase(frase):\n",
    "    return ' '.join(frase.split(' ')[::-1])\n",
    "print(invertirFrase('Hola a todo el mundo'))\n"
   ]
  },
  {
   "cell_type": "code",
   "execution_count": 6,
   "id": "ac30af64",
   "metadata": {},
   "outputs": [
    {
     "name": "stdout",
     "output_type": "stream",
     "text": [
      "[(1, 1), ('b', 2), (2, 2), (3, 1), (4, 1)]\n"
     ]
    }
   ],
   "source": [
    "#Ejercicio 58\n",
    "def numeroOcurrencias(lista):\n",
    "    solution=[]\n",
    "    valor_ocurrencias=0\n",
    "    x=dict(zip(lista,map(lambda x: lista.count(x),lista)))\n",
    "    for i,j in x.items():\n",
    "        solution.append((i,j))\n",
    "    return solution\n",
    "        \n",
    "        \n",
    "        \n",
    "print(numeroOcurrencias([1,'b',2,3,2,4,'b']))\n",
    "        "
   ]
  },
  {
   "cell_type": "code",
   "execution_count": 7,
   "id": "34909c21",
   "metadata": {},
   "outputs": [
    {
     "name": "stdout",
     "output_type": "stream",
     "text": [
      "[-7, 2, 3, 4, 9]\n"
     ]
    }
   ],
   "source": [
    "#Ejercicio 59\n",
    "def unionLista(l1,l2,l3):\n",
    "    solution=[]\n",
    "    listas=[l1,l2,l3]\n",
    "    n=0\n",
    "    while n <=len(listas)-1:\n",
    "        for i in listas[n]:\n",
    "            if i not in solution:\n",
    "                solution.append(i)\n",
    "        n+=1\n",
    "    return sorted(solution)\n",
    "print(unionLista([4,2,3],[],[4,-7,9]))\n"
   ]
  },
  {
   "cell_type": "code",
   "execution_count": null,
   "id": "816a2a80",
   "metadata": {},
   "outputs": [],
   "source": [
    "import requests\n",
    "import pandas as pd\n",
    "from bs4 import BeautifulSoup\n",
    "\n",
    "years = [\"1946-47\", \"1947-48\", \"1948-49\", \"1949-50\", \"1950-51\", \"1951-52\", \"1952-53\", \"1953-54\", \"1954-55\",\n",
    "\"1955-56\", \"1956-57\", \"1957-58\", \"1958-59\", \"1959-60\", \"1960-61\", \"1961-62\", \"1962-63\", \"1963-64\",\n",
    "\"1964-65\", \"1965-66\", \"1966-67\", \"1967-68\", \"1968-69\", \"1969-70\", \"1970-71\", \"1971-72\", \"1972-73\", \"1973-74\",\n",
    "\"1974-75\", \"1975-76\", \"1976-77\", \"1977-78\", \"1978-79\", \"1979-80\", \"1980-81\", \"1981-82\", \"1982-83\", \"1983-84\",\n",
    "\"1984-85\", \"1985-86\", \"1986-87\", \"1987-88\", \"1988-89\", \"1989-90\", \"1990-91\", \"1991-92\", \"1992-93\", \"1993-94\",\n",
    "\"1994-95\", \"1995-96\", \"1996-97\", \"1997-98\", \"1998-99\", \"1999-2000\", \"2000-01\", \"2001-02\", \"2002-03\", \"2003-04\",\n",
    "\"2004-05\", \"2005-06\", \"2006-07\", \"2007-08\", \"2008-09\", \"2009-10\", \"2010-11\", \"2011-12\", \"2012-13\", \"2013-14\",\n",
    "\"2014-15\", \"2015-16\", \"2016-17\", \"2017-18\", \"2018-19\", \"2019-20\", \"2020-21\", \"2021-22\", \"2022-23\"]\n",
    "\n",
    "\n",
    "web = f\"https://es.wikipedia.org/wiki/Temporada_22-23_de_la_NBA\"\n",
    "respuesta = requests.get(web)\n",
    "contenido = respuesta.text\n",
    "soup = BeautifulSoup(contenido, \"lxml\")\n",
    "\n",
    "matches = soup.findAll(\"table\", class_=\"wikitable\")\n",
    "\n",
    "\n",
    "for match in matches:\n",
    "    print(match.find(\"th\", class_=\"left\").get_text())\n",
    "    print(match.find(\"td\", class_=\"right\").get_text())"
   ]
  }
 ],
 "metadata": {
  "kernelspec": {
   "display_name": "Python 3 (ipykernel)",
   "language": "python",
   "name": "python3"
  },
  "language_info": {
   "codemirror_mode": {
    "name": "ipython",
    "version": 3
   },
   "file_extension": ".py",
   "mimetype": "text/x-python",
   "name": "python",
   "nbconvert_exporter": "python",
   "pygments_lexer": "ipython3",
   "version": "3.9.13"
  }
 },
 "nbformat": 4,
 "nbformat_minor": 5
}
